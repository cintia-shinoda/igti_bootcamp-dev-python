{
 "cells": [
  {
   "cell_type": "markdown",
   "metadata": {
    "id": "_iwIknGaJRHx"
   },
   "source": [
    "## Objetivos"
   ]
  },
  {
   "cell_type": "markdown",
   "metadata": {
    "id": "JVfL8DnyJW7G"
   },
   "source": [
    "Exercitar os seguintes conceitos trabalhados no Módulo:\n",
    "- Sintax Python\n",
    "- Comentários em Python\n",
    "- Tipos de dados em Python\n",
    "- List, Tuple, Set e Dictionary"
   ]
  },
  {
   "cell_type": "markdown",
   "metadata": {
    "id": "8bna9z_7KJXb"
   },
   "source": [
    "#  Pergunta 1\n",
    "\n",
    "A variável ```var_1``` é um(a)?"
   ]
  },
  {
   "cell_type": "code",
   "execution_count": 4,
   "metadata": {
    "colab": {
     "base_uri": "https://localhost:8080/"
    },
    "executionInfo": {
     "elapsed": 230,
     "status": "ok",
     "timestamp": 1632191068902,
     "user": {
      "displayName": "Cintia Shinoda",
      "photoUrl": "https://lh3.googleusercontent.com/a-/AOh14GirIncGvgELDpdr84SJl45gOgStIxBw10p-8NJLsg=s64",
      "userId": "01833124325523427756"
     },
     "user_tz": 180
    },
    "id": "Yg_EnSbVPSJj",
    "outputId": "8010b0a2-7313-4dc3-beaf-afe04ae6e1d0"
   },
   "outputs": [
    {
     "data": {
      "text/plain": [
       "list"
      ]
     },
     "execution_count": 4,
     "metadata": {},
     "output_type": "execute_result"
    }
   ],
   "source": [
    "var_1 = ['África do Sul', 'Namíbia', 'Congo']\n",
    "type(var_1)"
   ]
  },
  {
   "cell_type": "code",
   "execution_count": 1,
   "metadata": {
    "executionInfo": {
     "elapsed": 6,
     "status": "ok",
     "timestamp": 1632191014832,
     "user": {
      "displayName": "Cintia Shinoda",
      "photoUrl": "https://lh3.googleusercontent.com/a-/AOh14GirIncGvgELDpdr84SJl45gOgStIxBw10p-8NJLsg=s64",
      "userId": "01833124325523427756"
     },
     "user_tz": 180
    },
    "id": "AhvkmOgRKjV-"
   },
   "outputs": [],
   "source": [
    "# Resposta: List"
   ]
  },
  {
   "cell_type": "markdown",
   "metadata": {
    "id": "aEWYyfFZKcg0"
   },
   "source": [
    "# Q2\n",
    "\n",
    "A variável var_2 é um(a)?"
   ]
  },
  {
   "cell_type": "code",
   "execution_count": null,
   "metadata": {
    "colab": {
     "base_uri": "https://localhost:8080/"
    },
    "executionInfo": {
     "elapsed": 327,
     "status": "ok",
     "timestamp": 1628534964337,
     "user": {
      "displayName": "Cintia Shinoda",
      "photoUrl": "https://lh3.googleusercontent.com/a-/AOh14GirIncGvgELDpdr84SJl45gOgStIxBw10p-8NJLsg=s64",
      "userId": "01833124325523427756"
     },
     "user_tz": 180
    },
    "id": "GLZPB48uPyKJ",
    "outputId": "48feda09-38ac-4851-f0cd-29be3e8c0f9f"
   },
   "outputs": [
    {
     "data": {
      "text/plain": [
       "tuple"
      ]
     },
     "execution_count": 7,
     "metadata": {
      "tags": []
     },
     "output_type": "execute_result"
    }
   ],
   "source": [
    "var_2 = (1, 2, 5, 4)\n",
    "type(var_2)"
   ]
  },
  {
   "cell_type": "code",
   "execution_count": null,
   "metadata": {
    "id": "JcLcG294K2M7"
   },
   "outputs": [],
   "source": [
    "# Resposta: Tuple"
   ]
  },
  {
   "cell_type": "markdown",
   "metadata": {
    "id": "sIVHUaZaK8Bf"
   },
   "source": [
    "# Q3\n",
    "\n",
    "A variável var_3 é um(a)?"
   ]
  },
  {
   "cell_type": "code",
   "execution_count": 5,
   "metadata": {
    "colab": {
     "base_uri": "https://localhost:8080/"
    },
    "executionInfo": {
     "elapsed": 230,
     "status": "ok",
     "timestamp": 1632191142717,
     "user": {
      "displayName": "Cintia Shinoda",
      "photoUrl": "https://lh3.googleusercontent.com/a-/AOh14GirIncGvgELDpdr84SJl45gOgStIxBw10p-8NJLsg=s64",
      "userId": "01833124325523427756"
     },
     "user_tz": 180
    },
    "id": "mf9vGaDQP31l",
    "outputId": "e1699100-9388-4541-cb47-2fee612fc718"
   },
   "outputs": [
    {
     "data": {
      "text/plain": [
       "set"
      ]
     },
     "execution_count": 5,
     "metadata": {},
     "output_type": "execute_result"
    }
   ],
   "source": [
    "var_3 = {123, 456, 789, 1001}\n",
    "type(var_3)"
   ]
  },
  {
   "cell_type": "code",
   "execution_count": null,
   "metadata": {
    "id": "nJNFjZkqLGgr"
   },
   "outputs": [],
   "source": [
    "# Resposta: Set"
   ]
  },
  {
   "cell_type": "markdown",
   "metadata": {
    "id": "THkUbcm5LJG-"
   },
   "source": [
    "# Q4\n",
    "\n",
    "A variável var_4 é um(a)?"
   ]
  },
  {
   "cell_type": "code",
   "execution_count": 6,
   "metadata": {
    "colab": {
     "base_uri": "https://localhost:8080/"
    },
    "executionInfo": {
     "elapsed": 230,
     "status": "ok",
     "timestamp": 1632191196444,
     "user": {
      "displayName": "Cintia Shinoda",
      "photoUrl": "https://lh3.googleusercontent.com/a-/AOh14GirIncGvgELDpdr84SJl45gOgStIxBw10p-8NJLsg=s64",
      "userId": "01833124325523427756"
     },
     "user_tz": 180
    },
    "id": "1hdgHlXVP7aa",
    "outputId": "5d85b775-0404-4a74-e641-194fc0d5722b"
   },
   "outputs": [
    {
     "data": {
      "text/plain": [
       "dict"
      ]
     },
     "execution_count": 6,
     "metadata": {},
     "output_type": "execute_result"
    }
   ],
   "source": [
    "var_4 = {'MG':'Minas Gerais',\n",
    " 'SP':'São Paulo',\n",
    " 'RJ':'Rio de Janeiro'}\n",
    "\n",
    "type(var_4)"
   ]
  },
  {
   "cell_type": "code",
   "execution_count": null,
   "metadata": {
    "id": "g6F6Won7LT0K"
   },
   "outputs": [],
   "source": [
    "# Resposta: Dictionary"
   ]
  },
  {
   "cell_type": "markdown",
   "metadata": {
    "id": "OLVr9MdYLYBk"
   },
   "source": [
    "# Q5\n",
    "\n",
    "Qual o tipo de dado que está armazenado na variável var_5?"
   ]
  },
  {
   "cell_type": "code",
   "execution_count": 7,
   "metadata": {
    "colab": {
     "base_uri": "https://localhost:8080/"
    },
    "executionInfo": {
     "elapsed": 244,
     "status": "ok",
     "timestamp": 1632191278657,
     "user": {
      "displayName": "Cintia Shinoda",
      "photoUrl": "https://lh3.googleusercontent.com/a-/AOh14GirIncGvgELDpdr84SJl45gOgStIxBw10p-8NJLsg=s64",
      "userId": "01833124325523427756"
     },
     "user_tz": 180
    },
    "id": "MFyOXxp-Liyt",
    "outputId": "32b2e678-9a92-499a-9b62-a64ca151a19c"
   },
   "outputs": [
    {
     "data": {
      "text/plain": [
       "int"
      ]
     },
     "execution_count": 7,
     "metadata": {},
     "output_type": "execute_result"
    }
   ],
   "source": [
    "var_5 = 5412\n",
    "type(var_5)"
   ]
  },
  {
   "cell_type": "code",
   "execution_count": null,
   "metadata": {
    "id": "jo1otw5dLn3V"
   },
   "outputs": [],
   "source": [
    "# Resposta: Integer"
   ]
  },
  {
   "cell_type": "markdown",
   "metadata": {
    "id": "BOHMRZZHLqKf"
   },
   "source": [
    "# Q6\n",
    "\n",
    "Qual o tipo de dado que está armazenado na variável var_6?"
   ]
  },
  {
   "cell_type": "code",
   "execution_count": 8,
   "metadata": {
    "colab": {
     "base_uri": "https://localhost:8080/"
    },
    "executionInfo": {
     "elapsed": 218,
     "status": "ok",
     "timestamp": 1632191339511,
     "user": {
      "displayName": "Cintia Shinoda",
      "photoUrl": "https://lh3.googleusercontent.com/a-/AOh14GirIncGvgELDpdr84SJl45gOgStIxBw10p-8NJLsg=s64",
      "userId": "01833124325523427756"
     },
     "user_tz": 180
    },
    "id": "PfkEBWLyLyA9",
    "outputId": "11d00cce-1452-4a35-a836-57dafcea1112"
   },
   "outputs": [
    {
     "data": {
      "text/plain": [
       "float"
      ]
     },
     "execution_count": 8,
     "metadata": {},
     "output_type": "execute_result"
    }
   ],
   "source": [
    "var_6 = 45.4\n",
    "type(var_6)"
   ]
  },
  {
   "cell_type": "code",
   "execution_count": null,
   "metadata": {
    "id": "sBoIh7GHL2uB"
   },
   "outputs": [],
   "source": [
    "# Resposta: Float"
   ]
  },
  {
   "cell_type": "markdown",
   "metadata": {
    "id": "gPOHNE3TL6Gw"
   },
   "source": [
    "# Q7\n",
    "\n",
    "Qual o tipo de dado que está armazenado na variável var_7?"
   ]
  },
  {
   "cell_type": "code",
   "execution_count": 9,
   "metadata": {
    "colab": {
     "base_uri": "https://localhost:8080/"
    },
    "executionInfo": {
     "elapsed": 226,
     "status": "ok",
     "timestamp": 1632191401508,
     "user": {
      "displayName": "Cintia Shinoda",
      "photoUrl": "https://lh3.googleusercontent.com/a-/AOh14GirIncGvgELDpdr84SJl45gOgStIxBw10p-8NJLsg=s64",
      "userId": "01833124325523427756"
     },
     "user_tz": 180
    },
    "id": "g0dzOiqcL_29",
    "outputId": "f3317087-5685-4eb5-8efb-850391806b4e"
   },
   "outputs": [
    {
     "data": {
      "text/plain": [
       "str"
      ]
     },
     "execution_count": 9,
     "metadata": {},
     "output_type": "execute_result"
    }
   ],
   "source": [
    "var_7 = 'Curso de Desenvolvedor Python'\n",
    "type(var_7)"
   ]
  },
  {
   "cell_type": "code",
   "execution_count": null,
   "metadata": {
    "id": "DACibWgOMGGC"
   },
   "outputs": [],
   "source": [
    "# Resposta: String"
   ]
  },
  {
   "cell_type": "markdown",
   "metadata": {
    "id": "d3_HUvYSMIqi"
   },
   "source": [
    "# Q8\n",
    "\n",
    "Existe um erro na variável var_8? Se sim, qual?"
   ]
  },
  {
   "cell_type": "code",
   "execution_count": null,
   "metadata": {
    "id": "kQ_YEsSYMPzo"
   },
   "outputs": [],
   "source": [
    "var_8 = \"Curso de Desenvolvedor Java"
   ]
  },
  {
   "cell_type": "code",
   "execution_count": null,
   "metadata": {
    "id": "hGPZ95pwMTbd"
   },
   "outputs": [],
   "source": [
    "# Resposta: Sim. Falta uma aspas (\") no fim do texto."
   ]
  },
  {
   "cell_type": "markdown",
   "metadata": {
    "id": "KDtPWK5IMeTG"
   },
   "source": [
    "# Q9\n",
    "\n",
    "Na variável var_9 existe um sinal de #. O que ele significa?"
   ]
  },
  {
   "cell_type": "code",
   "execution_count": null,
   "metadata": {
    "id": "G4_15AP5MvWZ"
   },
   "outputs": [],
   "source": [
    "var_9 = 10 + 10 # Soma"
   ]
  },
  {
   "cell_type": "code",
   "execution_count": null,
   "metadata": {
    "id": "OhJDdGyxMl5j"
   },
   "outputs": [],
   "source": [
    "# Resposta: O sinal de # significa um comentário."
   ]
  },
  {
   "cell_type": "markdown",
   "metadata": {
    "id": "cA0HXX58MrPq"
   },
   "source": [
    "# Q10\n",
    "\n",
    "Existe um erro na variável var_10? Se sim, qual?"
   ]
  },
  {
   "cell_type": "code",
   "execution_count": null,
   "metadata": {
    "id": "zwHXETpHM2t7"
   },
   "outputs": [],
   "source": [
    "var_10 = print('Olá mundo)"
   ]
  },
  {
   "cell_type": "code",
   "execution_count": null,
   "metadata": {
    "id": "6w9gAUHSM5f1"
   },
   "outputs": [],
   "source": [
    "# Resposta: Sim. Falta uma aspas simples no texto."
   ]
  },
  {
   "cell_type": "markdown",
   "metadata": {
    "id": "krGEfI1VM96I"
   },
   "source": [
    "# Q11\n",
    "\n",
    "Qual o tipo de dado que está armazenado na variável var_11?"
   ]
  },
  {
   "cell_type": "code",
   "execution_count": 10,
   "metadata": {
    "colab": {
     "base_uri": "https://localhost:8080/"
    },
    "executionInfo": {
     "elapsed": 239,
     "status": "ok",
     "timestamp": 1632191679726,
     "user": {
      "displayName": "Cintia Shinoda",
      "photoUrl": "https://lh3.googleusercontent.com/a-/AOh14GirIncGvgELDpdr84SJl45gOgStIxBw10p-8NJLsg=s64",
      "userId": "01833124325523427756"
     },
     "user_tz": 180
    },
    "id": "XpENpFVRNErx",
    "outputId": "7d84f588-bba8-4106-fd45-5db91a392f35"
   },
   "outputs": [
    {
     "data": {
      "text/plain": [
       "str"
      ]
     },
     "execution_count": 10,
     "metadata": {},
     "output_type": "execute_result"
    }
   ],
   "source": [
    "var_11 = '150'\n",
    "type(var_11)"
   ]
  },
  {
   "cell_type": "code",
   "execution_count": null,
   "metadata": {
    "id": "-VHg0CsVNJnP"
   },
   "outputs": [],
   "source": [
    "# Resposta: String"
   ]
  },
  {
   "cell_type": "markdown",
   "metadata": {
    "id": "Ch5Zva7VNM9Y"
   },
   "source": [
    "# Q12\n",
    "\n",
    "Existe um erro na variável var_12? Se sim, qual?"
   ]
  },
  {
   "cell_type": "code",
   "execution_count": null,
   "metadata": {
    "id": "LyKc_EqvQD5O"
   },
   "outputs": [],
   "source": [
    "var_12 = ['House', 'The Office', \"Friends\"]"
   ]
  },
  {
   "cell_type": "code",
   "execution_count": null,
   "metadata": {
    "id": "XXSCn5SdNXQL"
   },
   "outputs": [],
   "source": [
    "# Resposta: Não. A variável não apresenta erros."
   ]
  },
  {
   "cell_type": "markdown",
   "metadata": {
    "id": "vGrmEMOENbeE"
   },
   "source": [
    "# Q13\n",
    "\n",
    "Existe um erro na variável var_13? Se sim, qual?"
   ]
  },
  {
   "cell_type": "code",
   "execution_count": null,
   "metadata": {
    "id": "jYOUZh-PQw85"
   },
   "outputs": [],
   "source": [
    "var_13 = {55: 'Brasil'\n",
    " 213: \"Argelia\"\n",
    " 56: 'Chile'}"
   ]
  },
  {
   "cell_type": "code",
   "execution_count": null,
   "metadata": {
    "id": "jSSaH3HDNpHO"
   },
   "outputs": [],
   "source": [
    "# Resposta: Sim. Faltam vírgulas para separar os valores."
   ]
  },
  {
   "cell_type": "markdown",
   "metadata": {
    "id": "hRt2PVpbNuKJ"
   },
   "source": [
    "# Q14\n",
    "\n",
    "Sobre a variável var_14, é CORRETO afirmar:"
   ]
  },
  {
   "cell_type": "code",
   "execution_count": 12,
   "metadata": {
    "colab": {
     "base_uri": "https://localhost:8080/"
    },
    "executionInfo": {
     "elapsed": 232,
     "status": "ok",
     "timestamp": 1632191893005,
     "user": {
      "displayName": "Cintia Shinoda",
      "photoUrl": "https://lh3.googleusercontent.com/a-/AOh14GirIncGvgELDpdr84SJl45gOgStIxBw10p-8NJLsg=s64",
      "userId": "01833124325523427756"
     },
     "user_tz": 180
    },
    "id": "HWJ9H_qHQ7Xt",
    "outputId": "ddfa0111-ba03-478e-89f3-4f0e60814196"
   },
   "outputs": [
    {
     "data": {
      "text/plain": [
       "bool"
      ]
     },
     "execution_count": 12,
     "metadata": {},
     "output_type": "execute_result"
    }
   ],
   "source": [
    "var_14 = 15 > 10\n",
    "type(var_14)"
   ]
  },
  {
   "cell_type": "code",
   "execution_count": 13,
   "metadata": {
    "executionInfo": {
     "elapsed": 234,
     "status": "ok",
     "timestamp": 1632191910346,
     "user": {
      "displayName": "Cintia Shinoda",
      "photoUrl": "https://lh3.googleusercontent.com/a-/AOh14GirIncGvgELDpdr84SJl45gOgStIxBw10p-8NJLsg=s64",
      "userId": "01833124325523427756"
     },
     "user_tz": 180
    },
    "id": "1aubZNJ6RDzR"
   },
   "outputs": [],
   "source": [
    "# Resposta: É uma variável do tipo boolean"
   ]
  },
  {
   "cell_type": "markdown",
   "metadata": {
    "id": "LkqpVOAOOC_O"
   },
   "source": [
    "# Q15\n",
    "\n",
    "Existe um erro na variável var_15? Se sim, qual?"
   ]
  },
  {
   "cell_type": "code",
   "execution_count": null,
   "metadata": {
    "id": "dqurCcnXRdhq"
   },
   "outputs": [],
   "source": [
    "var_15 <- 15"
   ]
  },
  {
   "cell_type": "code",
   "execution_count": 14,
   "metadata": {
    "executionInfo": {
     "elapsed": 251,
     "status": "ok",
     "timestamp": 1632191993004,
     "user": {
      "displayName": "Cintia Shinoda",
      "photoUrl": "https://lh3.googleusercontent.com/a-/AOh14GirIncGvgELDpdr84SJl45gOgStIxBw10p-8NJLsg=s64",
      "userId": "01833124325523427756"
     },
     "user_tz": 180
    },
    "id": "PissgWiiRlL8"
   },
   "outputs": [],
   "source": [
    "# Resposta: Sim. Em Python deve-se usar o sinal de = para declarar variáveis"
   ]
  }
 ],
 "metadata": {
  "colab": {
   "authorship_tag": "ABX9TyPQl2/A+yAFaZ2zm/ibPe3r",
   "collapsed_sections": [],
   "name": "Módulo 1 | Trabalho Prático.ipynb",
   "provenance": []
  },
  "kernelspec": {
   "display_name": "Python 3",
   "language": "python",
   "name": "python3"
  },
  "language_info": {
   "codemirror_mode": {
    "name": "ipython",
    "version": 3
   },
   "file_extension": ".py",
   "mimetype": "text/x-python",
   "name": "python",
   "nbconvert_exporter": "python",
   "pygments_lexer": "ipython3",
   "version": "3.8.3"
  }
 },
 "nbformat": 4,
 "nbformat_minor": 1
}
